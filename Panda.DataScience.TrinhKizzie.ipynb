{
 "cells": [
  {
   "cell_type": "code",
   "execution_count": 15,
   "id": "ff667197-f0e0-44a7-a108-20dcf1079510",
   "metadata": {},
   "outputs": [],
   "source": [
    "import pandas as pd"
   ]
  },
  {
   "cell_type": "code",
   "execution_count": null,
   "id": "6ce31190-a7dc-4a4b-a7fb-ad3f15ffe0df",
   "metadata": {},
   "outputs": [],
   "source": [
    "pd."
   ]
  },
  {
   "cell_type": "markdown",
   "id": "37f8c30f-0f70-41c4-a961-0d8139ae21d0",
   "metadata": {},
   "source": [
    "## 1. Create ##\n",
    "# 1.1 Create from a CSV #"
   ]
  },
  {
   "cell_type": "code",
   "execution_count": null,
   "id": "e4f7e852-754f-4085-a031-291654b5e7a3",
   "metadata": {},
   "outputs": [],
   "source": [
    "df = pd.read_cvs(\"telco_churn.csv\")"
   ]
  },
  {
   "cell_type": "markdown",
   "id": "4b6cf0bc-2ff2-489a-9dcd-131ef250fad4",
   "metadata": {},
   "source": [
    "# 1.2 Create from a Dictionary #"
   ]
  },
  {
   "cell_type": "code",
   "execution_count": 12,
   "id": "af38af4a-9674-4905-9d6b-be4f362b053c",
   "metadata": {},
   "outputs": [],
   "source": [
    "tempdict = {'col1' : [1,2,3], 'col2' : [4,5,6], 'col3' : [7,8,9]}"
   ]
  },
  {
   "cell_type": "code",
   "execution_count": null,
   "id": "496accd0-a53d-4957-9a73-d6b79f2336bf",
   "metadata": {},
   "outputs": [],
   "source": [
    "dictdf = pd.DataFrame.from_dict(tempditc)"
   ]
  },
  {
   "cell_type": "markdown",
   "id": "03f82161-cdb9-4199-b98a-e358695656d8",
   "metadata": {},
   "source": [
    "## 2. Read ##\n",
    "# 2.1 Show Top 5 and bottom 5 Rows #"
   ]
  },
  {
   "cell_type": "code",
   "execution_count": null,
   "id": "bb41d11a-0544-465e-81dc-f31778660912",
   "metadata": {},
   "outputs": [],
   "source": [
    "df.head(10)"
   ]
  },
  {
   "cell_type": "code",
   "execution_count": null,
   "id": "1f548761-c096-4b4a-91cc-37c923d03767",
   "metadata": {},
   "outputs": [],
   "source": [
    "dictdf.head()"
   ]
  },
  {
   "cell_type": "code",
   "execution_count": null,
   "id": "67d01ba4-8072-43a5-b440-703c0ce0f908",
   "metadata": {},
   "outputs": [],
   "source": [
    "df.tail(15)"
   ]
  },
  {
   "cell_type": "markdown",
   "id": "b70d3c52-4eaa-4c81-8749-3b34a0846288",
   "metadata": {},
   "source": [
    "# 2.2 Show columns and data types #"
   ]
  },
  {
   "cell_type": "code",
   "execution_count": null,
   "id": "d1c33110-321f-4c13-ac8c-8e301af5a0ce",
   "metadata": {},
   "outputs": [],
   "source": [
    "df.columns"
   ]
  },
  {
   "cell_type": "code",
   "execution_count": null,
   "id": "f55e6fa8-ad4e-41c9-b651-4ebbac892e16",
   "metadata": {},
   "outputs": [],
   "source": [
    "df.dtypes"
   ]
  },
  {
   "cell_type": "markdown",
   "id": "064bd5dd-44bc-497b-9230-54239045c054",
   "metadata": {},
   "source": [
    "# 2.3 Summary Statistics #"
   ]
  },
  {
   "cell_type": "code",
   "execution_count": null,
   "id": "63a85481-b680-4205-b28a-c8f755d70013",
   "metadata": {},
   "outputs": [],
   "source": [
    "df.describe()"
   ]
  },
  {
   "cell_type": "code",
   "execution_count": null,
   "id": "eced3485-724d-486c-b20b-5ea63ba529c5",
   "metadata": {},
   "outputs": [],
   "source": [
    "df.describe(inlude='object')"
   ]
  },
  {
   "cell_type": "markdown",
   "id": "b309ecdb-0fc4-42a0-b435-a020f6511f46",
   "metadata": {},
   "source": [
    "# 2.4 Filtering columns #"
   ]
  },
  {
   "cell_type": "code",
   "execution_count": null,
   "id": "1c566b05-f5a6-44b3-bd66-9806301612a4",
   "metadata": {},
   "outputs": [],
   "source": [
    "df.State"
   ]
  },
  {
   "cell_type": "code",
   "execution_count": null,
   "id": "96b358c1-12ad-4b14-8959-3665c485e3d0",
   "metadata": {},
   "outputs": [],
   "source": [
    "df.['International plan']"
   ]
  },
  {
   "cell_type": "code",
   "execution_count": null,
   "id": "4e9b639c-e67c-4fd8-80b8-0d8f9e830e06",
   "metadata": {},
   "outputs": [],
   "source": [
    "df[['State', 'International plan']]"
   ]
  },
  {
   "cell_type": "code",
   "execution_count": null,
   "id": "9bfee085-c3ff-493a-b7e8-59747936c4f0",
   "metadata": {},
   "outputs": [],
   "source": [
    "df.State.unique()"
   ]
  },
  {
   "cell_type": "markdown",
   "id": "eabc6c5c-ba00-4bf7-9d6c-1eb5e4fbd782",
   "metadata": {},
   "source": [
    "# 2.5 Filtering on Rows #"
   ]
  },
  {
   "cell_type": "code",
   "execution_count": null,
   "id": "f53ea343-1d3f-4655-9272-2f19148ae791",
   "metadata": {},
   "outputs": [],
   "source": [
    "df.head()"
   ]
  },
  {
   "cell_type": "code",
   "execution_count": null,
   "id": "de9f7cf7-9592-4313-be5d-7d7f240da220",
   "metadata": {},
   "outputs": [],
   "source": [
    "df[df['International plan']=='No']"
   ]
  },
  {
   "cell_type": "code",
   "execution_count": null,
   "id": "cdd14820-8cc0-4efd-b939-3c93a9d01199",
   "metadata": {},
   "outputs": [],
   "source": [
    "df[(df['International plan']=='No') & (df['Churn']==False)]"
   ]
  },
  {
   "cell_type": "code",
   "execution_count": null,
   "id": "bca13d7c-5c2d-4e66-9288-c0c6c57e0ac3",
   "metadata": {},
   "outputs": [],
   "source": [
    "df[(df['International plan']=='No') & (df['Churn']==True)]"
   ]
  },
  {
   "cell_type": "markdown",
   "id": "e358f7d4-4cd3-449e-9d3c-62d1e60dd4a7",
   "metadata": {},
   "source": [
    "# 2.6 Indexing with iloc #"
   ]
  },
  {
   "cell_type": "code",
   "execution_count": null,
   "id": "56280928-f76a-4e8c-9a22-795bc8244878",
   "metadata": {},
   "outputs": [],
   "source": [
    "df.iloc[14]"
   ]
  },
  {
   "cell_type": "code",
   "execution_count": null,
   "id": "048fd1bd-9f19-49d4-8b37-9f65807a385a",
   "metadata": {},
   "outputs": [],
   "source": [
    "df.iloc[14, 0]"
   ]
  },
  {
   "cell_type": "code",
   "execution_count": null,
   "id": "986de49b-b6ac-4113-bee4-9b6f1d53ec5e",
   "metadata": {},
   "outputs": [],
   "source": [
    "df.iloc[14, -1]"
   ]
  },
  {
   "cell_type": "code",
   "execution_count": null,
   "id": "ab8e1fd7-b2f5-42ae-89e1-25f1a0582833",
   "metadata": {},
   "outputs": [],
   "source": [
    "df.iloc[22:33]"
   ]
  },
  {
   "cell_type": "markdown",
   "id": "707a7c7f-685b-4205-909c-c7cb26e4f8f9",
   "metadata": {},
   "source": [
    "# 2.7 Indexing with loc #"
   ]
  },
  {
   "cell_type": "code",
   "execution_count": null,
   "id": "606ee526-2169-488e-a868-974f1947acc7",
   "metadata": {},
   "outputs": [],
   "source": [
    "state = df.copy()\n",
    "state.set_index('State', inplace=True)"
   ]
  },
  {
   "cell_type": "code",
   "execution_count": null,
   "id": "cba877b5-1399-4e00-9b0e-b12c95d3d37b",
   "metadata": {},
   "outputs": [],
   "source": [
    "state.head()"
   ]
  },
  {
   "cell_type": "code",
   "execution_count": null,
   "id": "a9ac1d68-5021-489b-87e2-c6106acf54d7",
   "metadata": {},
   "outputs": [],
   "source": [
    "state.loc['OH']"
   ]
  },
  {
   "cell_type": "markdown",
   "id": "87453936-b150-415d-99ec-afbb3dea0910",
   "metadata": {},
   "source": [
    "## 3. Update ##\n",
    "# 3.1 Dropping Rows #"
   ]
  },
  {
   "cell_type": "code",
   "execution_count": null,
   "id": "de2d1dd5-0804-4ce7-aa3a-69d2cd88d5c7",
   "metadata": {},
   "outputs": [],
   "source": [
    "df.isnull().sum()"
   ]
  },
  {
   "cell_type": "code",
   "execution_count": null,
   "id": "ce7a9a82-f5df-495f-8315-08b3b9b0a4d5",
   "metadata": {},
   "outputs": [],
   "source": [
    "df.dropna(inplace=True)"
   ]
  },
  {
   "cell_type": "code",
   "execution_count": null,
   "id": "60ae066a-5556-4bae-985c-f69d2e9440f9",
   "metadata": {},
   "outputs": [],
   "source": [
    "df.isnull().sum()"
   ]
  },
  {
   "cell_type": "markdown",
   "id": "290e8e9f-042e-494e-8f02-76d2db40daa4",
   "metadata": {},
   "source": [
    "# 3.2 Dropping Columns"
   ]
  },
  {
   "cell_type": "code",
   "execution_count": null,
   "id": "4653327b-691c-42b0-b540-77bd0766742e",
   "metadata": {},
   "outputs": [],
   "source": [
    "df.drop('Area Code', axis=1)"
   ]
  },
  {
   "cell_type": "markdown",
   "id": "afcf17f0-02f5-4e77-a8fb-a3949f63818a",
   "metadata": {},
   "source": [
    "# 3.3 Creatign Calculated Columns #"
   ]
  },
  {
   "cell_type": "code",
   "execution_count": null,
   "id": "e3447660-47ee-4b40-b1fd-7817db7b23f5",
   "metadata": {},
   "outputs": [],
   "source": [
    "df['New Column'] = df['Total Night minutes'] + df['Total intl minutes']"
   ]
  },
  {
   "cell_type": "code",
   "execution_count": null,
   "id": "73cd8008-e3c9-4cc5-aa7d-93240b94f997",
   "metadata": {},
   "outputs": [],
   "source": [
    "df.head()"
   ]
  },
  {
   "cell_type": "markdown",
   "id": "a911c4dd-b501-42d1-b46b-08525e2106e5",
   "metadata": {},
   "source": [
    "# 3.4 Updating an Entire Column #"
   ]
  },
  {
   "cell_type": "code",
   "execution_count": null,
   "id": "2ca93280-de4f-4e5e-acd9-d55adc06f11e",
   "metadata": {},
   "outputs": [],
   "source": [
    "df.['New Column'] = 100"
   ]
  },
  {
   "cell_type": "code",
   "execution_count": null,
   "id": "3f371118-ec38-496f-809a-1f4b1abaa1e4",
   "metadata": {},
   "outputs": [],
   "source": [
    "df.head()"
   ]
  },
  {
   "cell_type": "markdown",
   "id": "2233c8a0-1721-484a-b53e-34825e88896e",
   "metadata": {},
   "source": [
    "# 3.5 Updating a single value #"
   ]
  },
  {
   "cell_type": "code",
   "execution_count": null,
   "id": "4bf62880-b017-40a9-94a0-1abe88645bd4",
   "metadata": {},
   "outputs": [],
   "source": [
    "df.iloc[0,-1] = 10"
   ]
  },
  {
   "cell_type": "code",
   "execution_count": null,
   "id": "3bacac96-7a72-4a9e-b57e-ce786484709d",
   "metadata": {},
   "outputs": [],
   "source": [
    "df.head()"
   ]
  },
  {
   "cell_type": "markdown",
   "id": "f6713ea5-9d9a-4693-a17f-6a1d3e974ad8",
   "metadata": {},
   "source": [
    "# 3.6 Condition based upadting using apply #"
   ]
  },
  {
   "cell_type": "code",
   "execution_count": null,
   "id": "652a0401-b704-4351-9740-779f8f51ca75",
   "metadata": {},
   "outputs": [],
   "source": [
    "df['Churn Binary'] = df['Churn'}.apply(lambda x: 1 if x==True else 0)"
   ]
  },
  {
   "cell_type": "code",
   "execution_count": null,
   "id": "c7be7084-b77d-43af-b3b6-6741570e85a2",
   "metadata": {},
   "outputs": [],
   "source": [
    "df.head()"
   ]
  },
  {
   "cell_type": "code",
   "execution_count": null,
   "id": "03d41499-3440-411b-84dc-cdf53192e64e",
   "metadata": {},
   "outputs": [],
   "source": [
    "df[df['Churn']==True].head()"
   ]
  },
  {
   "cell_type": "markdown",
   "id": "edcbbd45-8732-411a-95cc-666b3eb634b8",
   "metadata": {},
   "source": [
    "## 4. Delete/Output ##\n",
    "# 4.1 Output to CSV #"
   ]
  },
  {
   "cell_type": "code",
   "execution_count": null,
   "id": "90e8d930-c029-4bf4-a851-4bddcef76535",
   "metadata": {},
   "outputs": [],
   "source": [
    "df.to_CSV('output.csv')"
   ]
  },
  {
   "cell_type": "markdown",
   "id": "56a8f39b-d50e-437c-8483-77b6b2e66a43",
   "metadata": {},
   "source": [
    "# 4.2 Output to JSON #"
   ]
  },
  {
   "cell_type": "code",
   "execution_count": null,
   "id": "fe3dd1f3-9738-4390-83f5-a794dceb9297",
   "metadata": {},
   "outputs": [],
   "source": [
    "df.to_json()"
   ]
  },
  {
   "cell_type": "markdown",
   "id": "3a78842d-adc1-44b6-8a1c-ee645ae6a6e3",
   "metadata": {},
   "source": [
    "# 4.3 Out to HTML #"
   ]
  },
  {
   "cell_type": "code",
   "execution_count": null,
   "id": "cfe16414-95b8-4b6a-9bbb-fe58a2c2122a",
   "metadata": {},
   "outputs": [],
   "source": [
    "df.to_html()"
   ]
  },
  {
   "cell_type": "markdown",
   "id": "b7d86944-3666-43a7-8f2a-22c39f5f1892",
   "metadata": {},
   "source": [
    "# 4.4 Delete a DataFrame #"
   ]
  },
  {
   "cell_type": "code",
   "execution_count": null,
   "id": "b30b7db6-d439-44ea-b679-82eb35899e46",
   "metadata": {},
   "outputs": [],
   "source": [
    "del df"
   ]
  }
 ],
 "metadata": {
  "kernelspec": {
   "display_name": "Python 3 (ipykernel)",
   "language": "python",
   "name": "python3"
  },
  "language_info": {
   "codemirror_mode": {
    "name": "ipython",
    "version": 3
   },
   "file_extension": ".py",
   "mimetype": "text/x-python",
   "name": "python",
   "nbconvert_exporter": "python",
   "pygments_lexer": "ipython3",
   "version": "3.11.7"
  }
 },
 "nbformat": 4,
 "nbformat_minor": 5
}
